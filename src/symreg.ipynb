{
<<<<<<< HEAD
 "cells": [
  {
   "cell_type": "markdown",
   "metadata": {},
   "source": [
    "# Symbolic Regression Implementation"
   ]
  },
  {
   "cell_type": "code",
   "execution_count": null,
   "metadata": {},
   "outputs": [],
   "source": [
    "import numpy as np\n",
    "from icecream import ic\n",
    "\n",
    "data = np.load('../data/problem_4.npz')  \n",
    "x_validation = data['x'] \n",
    "y_validation = data['y']\n",
    "\n",
    "num_vars = x_validation.shape[0]\n",
    "VARIABLES = [f\"x{i}\" for i in range(num_vars)]\n"
   ]
  },
  {
   "cell_type": "markdown",
   "metadata": {},
   "source": [
    "## Tree Node Definition"
   ]
  },
  {
   "cell_type": "code",
   "execution_count": 58,
   "metadata": {},
   "outputs": [],
   "source": [
    "import math\n",
    "import operator\n",
    "import random\n",
    "\n",
    "class Node:\n",
    "    def __init__(self, value, children=None):\n",
    "        \"\"\"\n",
    "        value could be:\n",
    "            - a float (constant);\n",
    "            - a string (a variable name like 'x0','x1', ...):\n",
    "            - a Python function ( math.sin, operator.add, ...)\n",
    "        \"\"\"\n",
    "        self.value = value\n",
    "        self.children = children if children is not None else []\n",
    "    \n",
    "    def is_leaf(self):\n",
    "        return len(self.children) == 0"
   ]
  },
  {
   "cell_type": "markdown",
   "metadata": {},
   "source": [
    "## Tree Creation"
   ]
  },
  {
   "cell_type": "code",
   "execution_count": 59,
   "metadata": {},
   "outputs": [],
   "source": [
    "def evaluate(node: Node, x: np.ndarray) -> np.ndarray:\n",
    "    if node.is_leaf():\n",
    "        val = node.value\n",
    "        # Case 1: constant\n",
    "        if isinstance(val, (float, int)) and not isinstance(val, bool):\n",
    "            return np.full(x.shape[1], float(val))\n",
    "        \n",
    "        # Case 2: variable\n",
    "        if isinstance(val, str) and val.startswith(\"x\"):\n",
    "            try:\n",
    "                idx = VARIABLES.index(val)\n",
    "            except ValueError:\n",
    "                raise ValueError(f\"Unknown Variable: {val}\")\n",
    "            return x[idx, :]  \n",
    "    \n",
    "        # Fallback\n",
    "        raise ValueError(f\"Unknown leaf value: {val}\")\n",
    "\n",
    "    else:\n",
    "        # Case 3: internal node\n",
    "        op = node.value\n",
    "        children_values = [evaluate(child, x) for child in node.children]\n",
    "\n",
    "        if len(children_values) == 1:\n",
    "            return safe_apply_unary(op, children_values[0])\n",
    "        elif len(children_values) == 2:\n",
    "            return safe_apply_binary(op, children_values[0], children_values[1])\n",
    "        else:\n",
    "            raise ValueError(\"Children number not supported\")\n",
    "\n",
    "\n",
    "        \n",
    "def protected_div(a, b):\n",
    "    if abs(b) < 1e-12:\n",
    "        return 1.0\n",
    "    return a / b\n",
    "\n",
    "def protected_sqrt(x):\n",
    "    if x < 0:\n",
    "        return math.sqrt(abs(x))\n",
    "    return math.sqrt(x)\n",
    "\n",
    "def protected_log10(x):\n",
    "    if x <= 0:\n",
    "        return 0.0\n",
    "    return math.log10(x)\n",
    "\n",
    "def safe_apply_unary(func, arr):\n",
    "    vfunc = np.frompyfunc(func, 1, 1)\n",
    "    return vfunc(arr).astype(float)\n",
    "\n",
    "def protected_exp(x):\n",
    "    # Overflow condition\n",
    "    if x > 700:\n",
    "        return math.exp(700)  \n",
    "    # Underflow condition\n",
    "    elif x < -700:\n",
    "        return math.exp(-700)\n",
    "    else:\n",
    "        return math.exp(x)\n",
    "def safe_apply_binary(func, arr1, arr2):\n",
    "    vfunc = np.frompyfunc(func, 2, 1)\n",
    "    return vfunc(arr1, arr2).astype(float)\n",
    "\n",
    "\n",
    "DEPTH_MAX = 4\n",
    "CONST_MAX = 10\n",
    "CONST_MIN = -10\n",
    "\n",
    "UNARY_FUNCS = [\n",
    "    math.sin,\n",
    "    math.cos,\n",
    "    operator.neg,\n",
    "    abs,\n",
    "    protected_log10,\n",
    "    protected_sqrt,\n",
    "    protected_exp\n",
    "]\n",
    "\n",
    "BINARY_FUNCS = [\n",
    "    operator.add,\n",
    "    operator.sub,\n",
    "    operator.mul,\n",
    "    protected_div\n",
    "]\n",
    "\n",
    "def generate_subtree_forced_var(\n",
    "    var: str,  \n",
    "    depth: int,\n",
    "    constant_min=CONST_MIN,\n",
    "    constant_max=CONST_MAX\n",
    ") -> Node:\n",
    "    \"\"\"\n",
    "    Generate recursively a subtree with a variable var at the root.\n",
    "    \"\"\"\n",
    "    if depth <= 0:\n",
    "        return Node(var)\n",
    "    else:\n",
    "        if random.random() < 0.3:\n",
    "            op = random.choice(UNARY_FUNCS)\n",
    "            child = generate_subtree_forced_var(var, depth - 1, constant_min, constant_max)\n",
    "            return Node(op, [child])\n",
    "        else:\n",
    "            op = random.choice(BINARY_FUNCS)\n",
    "            left = generate_subtree_forced_var(var, depth - 1, constant_min, constant_max)\n",
    "            right = generate_random_subtree(depth - 1, constant_min=constant_min, constant_max=constant_max)\n",
    "            return Node(op, [left, right])\n",
    "\n",
    "\n",
    "        \n",
    "def generate_random_subtree(depth, constant_min=CONST_MIN, constant_max=CONST_MAX) -> Node:\n",
    "    \"\"\"\n",
    "    Generate a random subtree without any constraint on the variables.\n",
    "    \"\"\"\n",
    "    variables = VARIABLES.copy()\n",
    "\n",
    "    if depth <= 0 or (depth > 1 and random.random() < 0.3):\n",
    "        if random.random() < 0.5 and variables:\n",
    "            # Choosing a random variable from the subset\n",
    "            var = random.choice(variables)\n",
    "            return Node(var)\n",
    "        else:\n",
    "            #Choosing a random constant\n",
    "            return Node(random.uniform(constant_min, constant_max))\n",
    "    else:\n",
    "        if random.random() < 0.3 and UNARY_FUNCS:\n",
    "            op = random.choice(UNARY_FUNCS)\n",
    "            child = generate_random_subtree(depth - 1, constant_min=constant_min, constant_max=constant_max)\n",
    "            return Node(op, [child])\n",
    "        else:\n",
    "            op = random.choice(BINARY_FUNCS)\n",
    "            left = generate_random_subtree(depth - 1, constant_min=constant_min, constant_max=constant_max)\n",
    "            right = generate_random_subtree(depth - 1, constant_min=constant_min, constant_max=constant_max)\n",
    "            return Node(op, [left, right])\n",
    "\n",
    "def generate_random_tree(depth=DEPTH_MAX, constant_min=CONST_MIN, constant_max=CONST_MAX) -> Node:\n",
    "    \"\"\"\n",
    "    Generate a tree which includes all the variables.\n",
    "    \"\"\"\n",
    "    if len(VARIABLES) == 0:\n",
    "        raise ValueError(\"There is no variable available.\")\n",
    "    elif len(VARIABLES) == 1:\n",
    "        var = VARIABLES[0]\n",
    "        return generate_subtree_forced_var(var, depth, constant_min=constant_min, constant_max=constant_max)\n",
    "    else:\n",
    "        if random.random() < 0.3 and UNARY_FUNCS:\n",
    "            # Unary operator\n",
    "            op = random.choice(UNARY_FUNCS)\n",
    "            child = generate_random_subtree(depth - 1, constant_min=constant_min, constant_max=constant_max)\n",
    "            return Node(op, [child])\n",
    "        elif BINARY_FUNCS:\n",
    "            # Binary operator\n",
    "            op = random.choice(BINARY_FUNCS)\n",
    "            left_subtree = generate_random_subtree(depth - 1, constant_min=constant_min, constant_max=constant_max)\n",
    "            right_subtree = generate_random_subtree(depth - 1, constant_min=constant_min, constant_max=constant_max)\n",
    "            return Node(op, [left_subtree, right_subtree])\n",
    "        else:\n",
    "            # Fallback: generate a random subtree without constraints\n",
    "            return generate_random_subtree(depth, constant_min=constant_min, constant_max=constant_max)\n",
    "        "
   ]
  },
  {
   "cell_type": "markdown",
   "metadata": {},
   "source": [
    "## Expression String"
   ]
  },
  {
   "cell_type": "code",
   "execution_count": 60,
   "metadata": {},
   "outputs": [],
   "source": [
    "DISPLAY_NAME_MAP = {\n",
    "    operator.add: '+',\n",
    "    operator.sub: '-',\n",
    "    operator.mul: '*',\n",
    "    protected_div: '/',\n",
    "    math.sin: 'sin',\n",
    "    math.cos: 'cos',\n",
    "    operator.neg: '-',\n",
    "    abs: 'abs',\n",
    "    protected_log10: 'log10',\n",
    "    protected_sqrt: 'sqrt',\n",
    "    protected_exp: 'exp',\n",
    "}\n",
    "\n",
    "def tree_to_string(node: Node) -> str:\n",
    "    \"\"\" It Returns a string representation of the tree node \"\"\"\n",
    "    # Case 1: Leaf node\n",
    "    if node.is_leaf():\n",
    "        val = node.value\n",
    "        # Constant\n",
    "        if isinstance(val, (float, int)) and not isinstance(val, bool):\n",
    "            return f\"{float(val):.3f}\"\n",
    "        # Variable\n",
    "        if isinstance(val, str) and val.startswith(\"x\"):\n",
    "            idx = val[1]  \n",
    "            return f\"x{idx}\"\n",
    "        # fallback\n",
    "        return str(val)\n",
    "\n",
    "    # Caso 2: Internal node (Operator)\n",
    "    else:\n",
    "        op = node.value\n",
    "        child_strs = [tree_to_string(child) for child in node.children]\n",
    "        op_name = DISPLAY_NAME_MAP.get(op, op.__name__ if hasattr(op, '__name__') else str(op))\n",
    "        # Unary operator\n",
    "        if len(child_strs) == 1:\n",
    "            return f\"{op_name}({child_strs[0]})\"\n",
    "\n",
    "        # Binary operator\n",
    "        elif len(child_strs) == 2:\n",
    "            left_str, right_str = child_strs\n",
    "            return f\"({left_str} {op_name} {right_str})\"\n",
    "        else:\n",
    "            raise ValueError(\"Children number not supported\")"
   ]
  },
  {
   "cell_type": "markdown",
   "metadata": {},
   "source": [
    "## Conversion Function\n",
    "They are useful to convert the tree generated my algorithm into the format the draw function in gxgp directory needs."
   ]
  },
  {
   "cell_type": "code",
   "execution_count": 61,
   "metadata": {},
   "outputs": [
    {
     "name": "stdout",
     "output_type": "stream",
     "text": [
      "Albero ricostruito: (((cos(x1) * 6.830) + sqrt(sqrt(((-9.009 + x0) + abs(x1))))) + sqrt(sqrt(-8.538)))\n"
     ]
    },
    {
     "data": {
      "image/png": "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",
      "text/plain": [
       "<Figure size 640x480 with 1 Axes>"
      ]
     },
     "metadata": {},
     "output_type": "display_data"
    }
   ],
   "source": [
    "from gxgp.node import Node as GXNode\n",
    "from gxgp.draw import draw\n",
    "\n",
    "def make_var_func(var_name):\n",
    "    \"\"\"It creates a function that returns the value of a variable from the keyword arguments.\"\"\"\n",
    "    def var_func(**kwargs):\n",
    "        return kwargs[var_name]\n",
    "    var_func.__name__ = var_name\n",
    "    return var_func\n",
    "\n",
    "def make_const_func(const_val):\n",
    "    \"\"\"It creates a function that returns a constant value.\"\"\"\n",
    "    def const_func(**kwargs):\n",
    "        return const_val\n",
    "    const_func.__name__ = f\"{const_val:.3f}\"\n",
    "    return const_func\n",
    "\n",
    "def convert_to_gxgp_node(my_node, subtree=None) -> GXNode:\n",
    "    \"\"\"\n",
    "    It converts a Node object to a GXNode object.\n",
    "    \"\"\"\n",
    "    if subtree is None:\n",
    "        subtree = set()\n",
    "\n",
    "    if my_node.is_leaf():\n",
    "        val = my_node.value\n",
    "        if isinstance(val, str):\n",
    "            \n",
    "            var_name = val\n",
    "            var_func = make_var_func(var_name)\n",
    "            display_name = DISPLAY_NAME_MAP.get(var_name, var_name)\n",
    "            gx_node = GXNode(var_func, [], name=display_name)      \n",
    "        else:\n",
    "            const_val = float(val)\n",
    "            const_func = make_const_func(const_val)\n",
    "            display_name = f\"{const_val:.3f}\"  \n",
    "            gx_node = GXNode(const_func, [], name=display_name) \n",
    "        subtree.add(gx_node)\n",
    "        return gx_node\n",
    "    else:\n",
    "        op = my_node.value\n",
    "        gx_op = op  \n",
    "        display_name = DISPLAY_NAME_MAP.get(op, op.__name__ if hasattr(op, '__name__') else str(op))\n",
    "        converted_children = []\n",
    "        for child in my_node.children if my_node.children is not None else []:\n",
    "            converted_child = convert_to_gxgp_node(child, subtree)\n",
    "            converted_children.append(converted_child)\n",
    "\n",
    "        gx_node = GXNode(gx_op, converted_children, name=display_name)\n",
    "        subtree.add(gx_node)\n",
    "        return gx_node\n",
    "    \n",
    "\n",
    "\n",
    "import math\n",
    "import operator\n",
    "\n",
    "# utilizzato solo per testing\n",
    "# Dizionari per il parsing degli operatori\n",
    "# Questi dizionari mappano le stringhe (come vengono stampate da tree_to_string)\n",
    "# alle funzioni reali che useremo per ricostruire l’albero.\n",
    "BINARY_OPERATORS = {\n",
    "    '+': operator.add,\n",
    "    '-': operator.sub,\n",
    "    '*': operator.mul,\n",
    "    '/': protected_div  # usiamo protected_div per gestire la divisione\n",
    "}\n",
    "\n",
    "UNARY_OPERATORS = {\n",
    "    'sin': math.sin,\n",
    "    'cos': math.cos,\n",
    "    '-': operator.neg,  # per il caso unario, \"-\" rappresenta l'operatore unario\n",
    "    'abs': abs,\n",
    "    'log10': protected_log10,\n",
    "    'sqrt':  protected_sqrt,\n",
    "    'exp': protected_exp\n",
    "}\n",
    "\n",
    "# Funzioni protette (le stesse già definite nel tuo codice)\n",
    "def protected_div(a, b):\n",
    "    if abs(b) < 1e-12:\n",
    "        return 1.0\n",
    "    return a / b\n",
    "\n",
    "def protected_sqrt(x):\n",
    "    if x < 0:\n",
    "        return math.sqrt(abs(x))\n",
    "    return math.sqrt(x)\n",
    "\n",
    "def protected_log10(x):\n",
    "    if x <= 0:\n",
    "        return 0.0\n",
    "    return math.log10(x)\n",
    "\n",
    "def protected_exp(x):\n",
    "    if x > 700:\n",
    "        return math.exp(700)\n",
    "    elif x < -700:\n",
    "        return math.exp(-700)\n",
    "    else:\n",
    "        return math.exp(x)\n",
    "\n",
    "# La funzione principale per convertire una stringa in un albero Node.\n",
    "def string_to_tree(expr: str) -> Node:\n",
    "    expr = expr.replace(\" \", \"\")\n",
    "    \n",
    "    def parse_expr(s, i):\n",
    "        if s[i] == '(':\n",
    "            i += 1  # skip '('\n",
    "            left_node, i = parse_expr(s, i)\n",
    "            # Read exactly one operator character\n",
    "            if s[i] in \"+-*/\":\n",
    "                op_str = s[i]\n",
    "                i += 1\n",
    "            else:\n",
    "                raise ValueError(\"Expected operator\")\n",
    "            if op_str not in BINARY_OPERATORS:\n",
    "                raise ValueError(f\"Unknown operator: {op_str}\")\n",
    "            op_func = BINARY_OPERATORS[op_str]\n",
    "            right_node, i = parse_expr(s, i)\n",
    "            if s[i] != ')':\n",
    "                raise ValueError(\"Expected closing parenthesis\")\n",
    "            i += 1  # skip ')'\n",
    "            return Node(op_func, [left_node, right_node]), i\n",
    "        \n",
    "        elif s[i].isalpha():\n",
    "            ident = \"\"\n",
    "            while i < len(s) and (s[i].isalnum() or s[i] == '_'):\n",
    "                ident += s[i]\n",
    "                i += 1\n",
    "            if i < len(s) and s[i] == '(':\n",
    "                i += 1  # skip '('\n",
    "                child_node, i = parse_expr(s, i)\n",
    "                if s[i] != ')':\n",
    "                    raise ValueError(\"Expected closing parenthesis after function\")\n",
    "                i += 1  # skip ')'\n",
    "                if ident not in UNARY_OPERATORS:\n",
    "                    raise ValueError(f\"Unknown unary function: {ident}\")\n",
    "                func = UNARY_OPERATORS[ident]\n",
    "                return Node(func, [child_node]), i\n",
    "            else:\n",
    "                return Node(ident), i\n",
    "        \n",
    "        elif s[i].isdigit() or s[i] == '.' or (s[i] == '-' and i+1 < len(s) and (s[i+1].isdigit() or s[i+1]=='.')):\n",
    "            num_str = \"\"\n",
    "            if s[i] == '-':\n",
    "                num_str += s[i]\n",
    "                i += 1\n",
    "            while i < len(s) and (s[i].isdigit() or s[i] == '.'):\n",
    "                num_str += s[i]\n",
    "                i += 1\n",
    "            return Node(float(num_str)), i\n",
    "        \n",
    "        else:\n",
    "            raise ValueError(f\"Unexpected character: {s[i]} at position {i}\")\n",
    "    \n",
    "    node, pos_final = parse_expr(expr, 0)\n",
    "    if pos_final != len(expr):\n",
    "        raise ValueError(\"The entire expression was not consumed during parsing\")\n",
    "    return node\n",
    "\n",
    "\n",
    "\n",
    "    \n",
    "expr = \"(((cos(x1) * 6.830) + sqrt(sqrt(((-9.009 + x0) + abs(x1))))) + sqrt(sqrt(-8.538)))\"\n",
    "albero = string_to_tree(expr)\n",
    "\n",
    "print(\"Albero ricostruito:\", tree_to_string(albero))\n",
    "draw(convert_to_gxgp_node(albero))"
   ]
  },
  {
   "cell_type": "markdown",
   "metadata": {},
   "source": [
    "## Fitness Function"
   ]
  },
  {
   "cell_type": "code",
   "execution_count": 62,
   "metadata": {},
   "outputs": [],
   "source": [
    "def fitness(individual: Node, x: np.ndarray, y: np.ndarray) -> float:\n",
    "    \"\"\" It calculates the fitness of an individual. \"\"\"\n",
    "    try:\n",
    "        y_pred = evaluate(individual, x)\n",
    "        if not np.isfinite(y_pred).all():\n",
    "            return 1e10 \n",
    "        mse = np.mean((y - y_pred)**2)\n",
    "        return mse\n",
    "    except (ValueError, ZeroDivisionError):\n",
    "        return 1e10 "
   ]
  },
  {
   "cell_type": "markdown",
   "metadata": {},
   "source": [
    "## Selection"
   ]
  },
  {
   "cell_type": "code",
   "execution_count": 63,
   "metadata": {},
   "outputs": [],
   "source": [
    "def tournament_selection(population, x, y, k=3):\n",
    "    \"\"\" It returns the best individual from a random tournament. \"\"\"\n",
    "    contenders = random.sample(population, k)\n",
    "    best = min(contenders, key=lambda ind: fitness(ind, x, y))\n",
    "    return best\n"
   ]
  },
  {
   "cell_type": "markdown",
   "metadata": {},
   "source": [
    "## Crossover"
   ]
  },
  {
   "cell_type": "code",
   "execution_count": 64,
   "metadata": {},
   "outputs": [],
   "source": [
    "def crossover(parent1: Node, parent2: Node) -> Node:\n",
    "    \"\"\"Crossover between two parents.\"\"\"\n",
    "    child1 = clone_tree(parent1)\n",
    "    child2 = clone_tree(parent2)\n",
    "    \n",
    "    internal_nodes1 = [node for node in get_all_nodes(child1) if not node.is_leaf()]\n",
    "    internal_nodes2 = [node for node in get_all_nodes(child2) if not node.is_leaf()]\n",
    "    \n",
    "    # If there are internal nodes in both trees it selects a random internal node from each tree and swaps the subtrees\n",
    "    if internal_nodes1 and internal_nodes2:\n",
    "        node1 = random.choice(internal_nodes1)\n",
    "        node2 = random.choice(internal_nodes2)\n",
    "    \n",
    "        node1.value, node1.children, node2.value, node2.children = node2.value, node2.children, node1.value, node1.children\n",
    "    \n",
    "    return child1\n",
    "\n",
    "\n",
    "def get_random_node(tree: Node) -> Node:\n",
    "    \"\"\" It returns a random node from the tree. \"\"\"\n",
    "    all_nodes = get_all_nodes(tree)\n",
    "    return random.choice(all_nodes)\n",
    "\n",
    "def get_all_nodes(tree: Node) -> list:\n",
    "    \"\"\" It returns a list with all the nodes of the tree. \"\"\"\n",
    "    nodes = [tree]\n",
    "    for c in tree.children:\n",
    "        nodes += get_all_nodes(c)\n",
    "    return nodes\n",
    "\n",
    "def clone_tree(node: Node) -> Node:\n",
    "    \"\"\" It creates a deep copy of the tree. \"\"\"\n",
    "    new_node = Node(node.value)\n",
    "    new_node.children = [clone_tree(c) for c in node.children]\n",
    "    return new_node\n"
   ]
  },
  {
   "cell_type": "markdown",
   "metadata": {},
   "source": [
    "## Mutation"
   ]
  },
  {
   "cell_type": "code",
   "execution_count": 65,
   "metadata": {},
   "outputs": [],
   "source": [
    "def mutate(individual: Node, mutation_rate=0.4) -> Node:\n",
    "    \"\"\"With a certain probability it mutates a node of the tree.\"\"\"\n",
    "    mutant = clone_tree(individual)\n",
    "    if random.random() < mutation_rate:\n",
    "        internal_nodes = [node for node in get_all_nodes(mutant) if not node.is_leaf()]\n",
    "        leaf_nodes = [node for node in get_all_nodes(mutant) if node.is_leaf()]\n",
    "        \n",
    "        # With a certain probability it mutates an internal node, otherwise it mutates a leaf node.\n",
    "        if internal_nodes and (not leaf_nodes or random.random() < 0.5):\n",
    "            \n",
    "            node_to_mutate = random.choice(internal_nodes)\n",
    "            new_subtree = generate_random_tree(depth=DEPTH_MAX, constant_min=CONST_MIN, constant_max=CONST_MAX)\n",
    "            node_to_mutate.value = new_subtree.value\n",
    "            node_to_mutate.children = new_subtree.children\n",
    "        elif leaf_nodes:\n",
    "            node_to_mutate = random.choice(leaf_nodes)\n",
    "            if random.random() < 0.5:\n",
    "                new_var = random.choice(VARIABLES)\n",
    "                node_to_mutate.value = new_var\n",
    "            else:\n",
    "                node_to_mutate.value = random.uniform(CONST_MIN, CONST_MAX)\n",
    "                node_to_mutate.children = []\n",
    "    \n",
    "    return mutant\n",
    "\n"
   ]
  },
  {
   "cell_type": "markdown",
   "metadata": {},
   "source": [
    "## Cutting the Tree"
   ]
  },
  {
   "cell_type": "code",
   "execution_count": 66,
   "metadata": {},
   "outputs": [],
   "source": [
    "def enforce_max_depth(node, max_depth=3, current_depth=0):\n",
    "    \"\"\"It reduces the depth of the tree to a maximum depth.\"\"\"\n",
    "    if current_depth >= max_depth:\n",
    "        if VARIABLES:\n",
    "            node.value = random.choice(VARIABLES + [random.uniform(CONST_MIN, CONST_MAX)])\n",
    "        else:\n",
    "            node.value = random.uniform(CONST_MIN, CONST_MAX)\n",
    "        node.children = []\n",
    "    else:\n",
    "        for c in node.children:\n",
    "            enforce_max_depth(c, max_depth, current_depth+1)\n"
   ]
  },
  {
   "cell_type": "markdown",
   "metadata": {},
   "source": [
    "## Genetic Programming Algorithm"
   ]
  },
  {
   "cell_type": "code",
   "execution_count": 67,
   "metadata": {},
   "outputs": [],
   "source": [
    "def run_genetic_programming(x: np.ndarray, y: np.ndarray,\n",
    "                            population_size=100,\n",
    "                            generations=50,\n",
    "                            elite_size=2,\n",
    "                            max_depth=6):\n",
    "    \"\"\" It executes the genetic programming algorithm. \"\"\"\n",
    "\n",
    "    # 1) Ramped Half-and-Half Initialization\n",
    "    population = []\n",
    "    half_pop = population_size // 2\n",
    "    for i in range(half_pop):\n",
    "        tree = generate_random_tree(depth=2)\n",
    "        enforce_max_depth(tree, max_depth=max_depth)\n",
    "        population.append(tree)\n",
    "\n",
    "    for i in range(population_size - half_pop):\n",
    "        tree = generate_random_tree(depth=4)\n",
    "        enforce_max_depth(tree, max_depth=max_depth)\n",
    "        population.append(tree)\n",
    "    \n",
    "    best_overall = None\n",
    "    best_fitness = float('inf')\n",
    "    \n",
    "    # Hall of Fame with the best individual of each generation\n",
    "    hall_of_fame = []  \n",
    "\n",
    "    for g in range(generations):\n",
    "        # 2) Fitness Evaluation\n",
    "        scored_pop = [(ind, fitness(ind, x, y)) for ind in population]\n",
    "        scored_pop.sort(key=lambda x: x[1]) \n",
    "        \n",
    "        best_current, best_current_fit = scored_pop[0]\n",
    "      \n",
    "        if best_current_fit < best_fitness:\n",
    "            best_overall = clone_tree(best_current)\n",
    "            best_fitness = best_current_fit\n",
    "        \n",
    "        best_str = tree_to_string(best_current)\n",
    "        print(f\"[Gen {g}] Best MSE: {best_current_fit:.5f} => {best_str}\")\n",
    "        \n",
    "        hall_of_fame.append((clone_tree(best_current), best_current_fit))\n",
    "        \n",
    "        new_population = [ind for ind, fit in scored_pop[:elite_size]]\n",
    "        \n",
    "        # 4) Reproduction\n",
    "        while len(new_population) < population_size:\n",
    "            # Selection\n",
    "            p1 = tournament_selection(population, x, y, k=3)\n",
    "            p2 = tournament_selection(population, x, y, k=3)\n",
    "            # Crossover\n",
    "            offspring = crossover(p1, p2)\n",
    "            # Mutation\n",
    "            offspring = mutate(offspring)\n",
    "            # Enforce max depth to reduce the size of the tree\n",
    "            enforce_max_depth(offspring, max_depth=max_depth)\n",
    "            new_population.append(offspring)\n",
    "        \n",
    "        population = new_population\n",
    "    \n",
    "    return best_overall, best_fitness, hall_of_fame\n"
   ]
  },
  {
   "cell_type": "markdown",
   "metadata": {},
   "source": [
    "## Training"
   ]
  },
  {
   "cell_type": "code",
   "execution_count": 68,
   "metadata": {},
   "outputs": [
    {
     "name": "stdout",
     "output_type": "stream",
     "text": [
      "Variables: ['x0', 'x1', 'x2']\n",
      "x_validation shape: (3, 5000)\n",
      "y_validation shape: (5000,)\n",
      "Total number of samples = 5000\n"
     ]
    },
    {
     "data": {
      "text/plain": [
       "'\\nprint(\"\\nTraining:\\n\")\\nTRAIN_SIZE = N // 10\\nprint(f\"TRAIN_SIZE = {TRAIN_SIZE}\")\\n\\ntrain_indexes = np.random.choice(N, size=TRAIN_SIZE, replace=False)\\n\\nx_train = x_validation[:, train_indexes]\\ny_train = y_validation[train_indexes]\\n\\nbest_individual_training, best_fit_training, hall_of_fame_training = run_genetic_programming(\\n    x_train, y_train,\\n    population_size=10_000,\\n    generations=100,\\n    elite_size=2\\n)\\n\\n\\nexpr_str_training = tree_to_string(best_individual_training)\\nprint(f\"\\nBest expression found = {expr_str_training}, MSE = {best_fit_training}\")\\n\\ngx_best_individual_training = convert_to_gxgp_node(best_individual_training)\\nprint(\"Final Expression Tree (GP on training set):\")\\ndraw(gx_best_individual_training)\\n\\n'"
      ]
     },
     "execution_count": 68,
     "metadata": {},
     "output_type": "execute_result"
    }
   ],
   "source": [
    "print(f\"Variables: {VARIABLES}\")\n",
    "print(f\"x_validation shape: {x_validation.shape}\")\n",
    "print(f\"y_validation shape: {y_validation.shape}\")\n",
    "\n",
    "N = x_validation.shape[1]\n",
    "print(f\"Total number of samples = {N}\")\n",
    "\n",
    "\"\"\"\n",
    "print(\"\\nTraining:\\n\")\n",
    "TRAIN_SIZE = N // 10\n",
    "print(f\"TRAIN_SIZE = {TRAIN_SIZE}\")\n",
    "\n",
    "train_indexes = np.random.choice(N, size=TRAIN_SIZE, replace=False)\n",
    "\n",
    "x_train = x_validation[:, train_indexes]\n",
    "y_train = y_validation[train_indexes]\n",
    "\n",
    "best_individual_training, best_fit_training, hall_of_fame_training = run_genetic_programming(\n",
    "    x_train, y_train,\n",
    "    population_size=10_000,\n",
    "    generations=100,\n",
    "    elite_size=2\n",
    ")\n",
    "\n",
    "\n",
    "expr_str_training = tree_to_string(best_individual_training)\n",
    "print(f\"\\nBest expression found = {expr_str_training}, MSE = {best_fit_training}\")\n",
    "\n",
    "gx_best_individual_training = convert_to_gxgp_node(best_individual_training)\n",
    "print(\"Final Expression Tree (GP on training set):\")\n",
    "draw(gx_best_individual_training)\n",
    "\n",
    "\"\"\"\n"
   ]
  },
  {
   "cell_type": "markdown",
   "metadata": {},
   "source": [
    "## Test"
   ]
  },
  {
   "cell_type": "code",
   "execution_count": 69,
   "metadata": {},
   "outputs": [
    {
     "name": "stdout",
     "output_type": "stream",
     "text": [
      "Test:\n",
      "\n"
     ]
    },
    {
     "name": "stderr",
     "output_type": "stream",
     "text": [
      "C:\\Users\\utente\\AppData\\Local\\Temp\\ipykernel_680\\746836380.py:7: RuntimeWarning: overflow encountered in square\n",
      "  mse = np.mean((y - y_pred)**2)\n"
     ]
    },
    {
     "name": "stdout",
     "output_type": "stream",
     "text": [
      "[Gen 0] Best MSE: 28557904807063.53125 => (((-(x0) / exp(-9.331)) * x2) * x1)\n",
      "[Gen 1] Best MSE: 28557904807063.53125 => (((-(x0) / exp(-9.331)) * x2) * x1)\n",
      "[Gen 2] Best MSE: 28557904807063.53125 => (((-(x0) / exp(-9.331)) * x2) * x1)\n"
     ]
    },
    {
     "name": "stderr",
     "output_type": "stream",
     "text": [
      "C:\\Users\\utente\\AppData\\Local\\Temp\\ipykernel_680\\1136753074.py:63: RuntimeWarning: overflow encountered in mul (vectorized)\n",
      "  return vfunc(arr1, arr2).astype(float)\n"
     ]
    },
    {
     "name": "stdout",
     "output_type": "stream",
     "text": [
      "[Gen 3] Best MSE: 10000000000.00000 => (((((9.100 * (x0 / x2)) + exp(x2)) + (abs(-0.795) * cos(-3.462))) * exp((-3.205 / x2))) / 9.181)\n",
      "[Gen 4] Best MSE: 10000000000.00000 => (((((9.100 * (x0 / x2)) + exp(x2)) + (abs(-0.795) * cos(-3.462))) * exp((-3.205 / x2))) / 9.181)\n"
     ]
    },
    {
     "name": "stderr",
     "output_type": "stream",
     "text": [
      "C:\\Users\\utente\\AppData\\Local\\Temp\\ipykernel_680\\1136753074.py:63: RuntimeWarning: overflow encountered in protected_div (vectorized)\n",
      "  return vfunc(arr1, arr2).astype(float)\n"
     ]
    },
    {
     "name": "stdout",
     "output_type": "stream",
     "text": [
      "[Gen 5] Best MSE: 10000000000.00000 => (((((9.100 * (x0 / x2)) + exp(x2)) + (abs(-0.795) * cos(-3.462))) * exp((-3.205 / x2))) / 9.181)\n",
      "[Gen 6] Best MSE: 10000000000.00000 => (((((9.100 * (x0 / x2)) + exp(x2)) + (abs(-0.795) * cos(-3.462))) * exp((-3.205 / x2))) / 9.181)\n",
      "[Gen 7] Best MSE: 10000000000.00000 => (((((9.100 * (x0 / x2)) + exp(x2)) + (abs(-0.795) * cos(-3.462))) * exp((-3.205 / x2))) / 9.181)\n",
      "[Gen 8] Best MSE: 10000000000.00000 => (((((9.100 * (x0 / x2)) + exp(x2)) + (abs(-0.795) * cos(-3.462))) * exp((-3.205 / x2))) / 9.181)\n",
      "[Gen 9] Best MSE: 10000000000.00000 => (((((9.100 * (x0 / x2)) + exp(x2)) + (abs(-0.795) * cos(-3.462))) * exp((-3.205 / x2))) / 9.181)\n",
      "[Gen 10] Best MSE: 10000000000.00000 => (((((9.100 * (x0 / x2)) + exp(x2)) + (abs(-0.795) * cos(-3.462))) * exp((-3.205 / x2))) / 9.181)\n",
      "[Gen 11] Best MSE: 10000000000.00000 => (((((9.100 * (x0 / x2)) + exp(x2)) + (abs(-0.795) * cos(-3.462))) * exp((-3.205 / x2))) / 9.181)\n"
     ]
    },
    {
     "ename": "KeyboardInterrupt",
     "evalue": "",
     "output_type": "error",
     "traceback": [
      "\u001b[1;31m---------------------------------------------------------------------------\u001b[0m",
      "\u001b[1;31mKeyboardInterrupt\u001b[0m                         Traceback (most recent call last)",
      "Cell \u001b[1;32mIn[69], line 2\u001b[0m\n\u001b[0;32m      1\u001b[0m \u001b[38;5;28mprint\u001b[39m(\u001b[38;5;124m\"\u001b[39m\u001b[38;5;124mTest:\u001b[39m\u001b[38;5;130;01m\\n\u001b[39;00m\u001b[38;5;124m\"\u001b[39m)\n\u001b[1;32m----> 2\u001b[0m best_individual, best_fit, hall_of_fame \u001b[38;5;241m=\u001b[39m \u001b[43mrun_genetic_programming\u001b[49m\u001b[43m(\u001b[49m\n\u001b[0;32m      3\u001b[0m \u001b[43m    \u001b[49m\u001b[43mx_validation\u001b[49m\u001b[43m,\u001b[49m\u001b[43m \u001b[49m\u001b[43my_validation\u001b[49m\u001b[43m,\u001b[49m\n\u001b[0;32m      4\u001b[0m \u001b[43m    \u001b[49m\u001b[43mpopulation_size\u001b[49m\u001b[38;5;241;43m=\u001b[39;49m\u001b[38;5;241;43m10_000\u001b[39;49m\u001b[43m,\u001b[49m\n\u001b[0;32m      5\u001b[0m \u001b[43m    \u001b[49m\u001b[43mgenerations\u001b[49m\u001b[38;5;241;43m=\u001b[39;49m\u001b[38;5;241;43m100\u001b[39;49m\u001b[43m,\u001b[49m\n\u001b[0;32m      6\u001b[0m \u001b[43m    \u001b[49m\u001b[43melite_size\u001b[49m\u001b[38;5;241;43m=\u001b[39;49m\u001b[38;5;241;43m2\u001b[39;49m\n\u001b[0;32m      7\u001b[0m \u001b[43m)\u001b[49m\n\u001b[0;32m      9\u001b[0m expr_str \u001b[38;5;241m=\u001b[39m tree_to_string(best_individual)\n\u001b[0;32m     10\u001b[0m \u001b[38;5;28mprint\u001b[39m(\u001b[38;5;124mf\u001b[39m\u001b[38;5;124m\"\u001b[39m\u001b[38;5;130;01m\\n\u001b[39;00m\u001b[38;5;124mBest expression found = \u001b[39m\u001b[38;5;132;01m{\u001b[39;00mexpr_str\u001b[38;5;132;01m}\u001b[39;00m\u001b[38;5;124m, MSE = \u001b[39m\u001b[38;5;132;01m{\u001b[39;00mbest_fit\u001b[38;5;132;01m}\u001b[39;00m\u001b[38;5;124m\"\u001b[39m)\n",
      "Cell \u001b[1;32mIn[67], line 49\u001b[0m, in \u001b[0;36mrun_genetic_programming\u001b[1;34m(x, y, population_size, generations, elite_size, max_depth)\u001b[0m\n\u001b[0;32m     46\u001b[0m \u001b[38;5;28;01mwhile\u001b[39;00m \u001b[38;5;28mlen\u001b[39m(new_population) \u001b[38;5;241m<\u001b[39m population_size:\n\u001b[0;32m     47\u001b[0m     \u001b[38;5;66;03m# Selection\u001b[39;00m\n\u001b[0;32m     48\u001b[0m     p1 \u001b[38;5;241m=\u001b[39m tournament_selection(population, x, y, k\u001b[38;5;241m=\u001b[39m\u001b[38;5;241m3\u001b[39m)\n\u001b[1;32m---> 49\u001b[0m     p2 \u001b[38;5;241m=\u001b[39m \u001b[43mtournament_selection\u001b[49m\u001b[43m(\u001b[49m\u001b[43mpopulation\u001b[49m\u001b[43m,\u001b[49m\u001b[43m \u001b[49m\u001b[43mx\u001b[49m\u001b[43m,\u001b[49m\u001b[43m \u001b[49m\u001b[43my\u001b[49m\u001b[43m,\u001b[49m\u001b[43m \u001b[49m\u001b[43mk\u001b[49m\u001b[38;5;241;43m=\u001b[39;49m\u001b[38;5;241;43m3\u001b[39;49m\u001b[43m)\u001b[49m\n\u001b[0;32m     50\u001b[0m     \u001b[38;5;66;03m# Crossover\u001b[39;00m\n\u001b[0;32m     51\u001b[0m     offspring \u001b[38;5;241m=\u001b[39m crossover(p1, p2)\n",
      "Cell \u001b[1;32mIn[63], line 4\u001b[0m, in \u001b[0;36mtournament_selection\u001b[1;34m(population, x, y, k)\u001b[0m\n\u001b[0;32m      2\u001b[0m \u001b[38;5;250m\u001b[39m\u001b[38;5;124;03m\"\"\" It returns the best individual from a random tournament. \"\"\"\u001b[39;00m\n\u001b[0;32m      3\u001b[0m contenders \u001b[38;5;241m=\u001b[39m random\u001b[38;5;241m.\u001b[39msample(population, k)\n\u001b[1;32m----> 4\u001b[0m best \u001b[38;5;241m=\u001b[39m \u001b[38;5;28;43mmin\u001b[39;49m\u001b[43m(\u001b[49m\u001b[43mcontenders\u001b[49m\u001b[43m,\u001b[49m\u001b[43m \u001b[49m\u001b[43mkey\u001b[49m\u001b[38;5;241;43m=\u001b[39;49m\u001b[38;5;28;43;01mlambda\u001b[39;49;00m\u001b[43m \u001b[49m\u001b[43mind\u001b[49m\u001b[43m:\u001b[49m\u001b[43m \u001b[49m\u001b[43mfitness\u001b[49m\u001b[43m(\u001b[49m\u001b[43mind\u001b[49m\u001b[43m,\u001b[49m\u001b[43m \u001b[49m\u001b[43mx\u001b[49m\u001b[43m,\u001b[49m\u001b[43m \u001b[49m\u001b[43my\u001b[49m\u001b[43m)\u001b[49m\u001b[43m)\u001b[49m\n\u001b[0;32m      5\u001b[0m \u001b[38;5;28;01mreturn\u001b[39;00m best\n",
      "Cell \u001b[1;32mIn[63], line 4\u001b[0m, in \u001b[0;36mtournament_selection.<locals>.<lambda>\u001b[1;34m(ind)\u001b[0m\n\u001b[0;32m      2\u001b[0m \u001b[38;5;250m\u001b[39m\u001b[38;5;124;03m\"\"\" It returns the best individual from a random tournament. \"\"\"\u001b[39;00m\n\u001b[0;32m      3\u001b[0m contenders \u001b[38;5;241m=\u001b[39m random\u001b[38;5;241m.\u001b[39msample(population, k)\n\u001b[1;32m----> 4\u001b[0m best \u001b[38;5;241m=\u001b[39m \u001b[38;5;28mmin\u001b[39m(contenders, key\u001b[38;5;241m=\u001b[39m\u001b[38;5;28;01mlambda\u001b[39;00m ind: \u001b[43mfitness\u001b[49m\u001b[43m(\u001b[49m\u001b[43mind\u001b[49m\u001b[43m,\u001b[49m\u001b[43m \u001b[49m\u001b[43mx\u001b[49m\u001b[43m,\u001b[49m\u001b[43m \u001b[49m\u001b[43my\u001b[49m\u001b[43m)\u001b[49m)\n\u001b[0;32m      5\u001b[0m \u001b[38;5;28;01mreturn\u001b[39;00m best\n",
      "Cell \u001b[1;32mIn[62], line 4\u001b[0m, in \u001b[0;36mfitness\u001b[1;34m(individual, x, y)\u001b[0m\n\u001b[0;32m      2\u001b[0m \u001b[38;5;250m\u001b[39m\u001b[38;5;124;03m\"\"\" It calculates the fitness of an individual. \"\"\"\u001b[39;00m\n\u001b[0;32m      3\u001b[0m \u001b[38;5;28;01mtry\u001b[39;00m:\n\u001b[1;32m----> 4\u001b[0m     y_pred \u001b[38;5;241m=\u001b[39m \u001b[43mevaluate\u001b[49m\u001b[43m(\u001b[49m\u001b[43mindividual\u001b[49m\u001b[43m,\u001b[49m\u001b[43m \u001b[49m\u001b[43mx\u001b[49m\u001b[43m)\u001b[49m\n\u001b[0;32m      5\u001b[0m     \u001b[38;5;28;01mif\u001b[39;00m \u001b[38;5;129;01mnot\u001b[39;00m np\u001b[38;5;241m.\u001b[39misfinite(y_pred)\u001b[38;5;241m.\u001b[39mall():\n\u001b[0;32m      6\u001b[0m         \u001b[38;5;28;01mreturn\u001b[39;00m \u001b[38;5;241m1e10\u001b[39m \n",
      "Cell \u001b[1;32mIn[59], line 22\u001b[0m, in \u001b[0;36mevaluate\u001b[1;34m(node, x)\u001b[0m\n\u001b[0;32m     19\u001b[0m \u001b[38;5;28;01melse\u001b[39;00m:\n\u001b[0;32m     20\u001b[0m     \u001b[38;5;66;03m# Case 3: internal node\u001b[39;00m\n\u001b[0;32m     21\u001b[0m     op \u001b[38;5;241m=\u001b[39m node\u001b[38;5;241m.\u001b[39mvalue\n\u001b[1;32m---> 22\u001b[0m     children_values \u001b[38;5;241m=\u001b[39m [\u001b[43mevaluate\u001b[49m\u001b[43m(\u001b[49m\u001b[43mchild\u001b[49m\u001b[43m,\u001b[49m\u001b[43m \u001b[49m\u001b[43mx\u001b[49m\u001b[43m)\u001b[49m \u001b[38;5;28;01mfor\u001b[39;00m child \u001b[38;5;129;01min\u001b[39;00m node\u001b[38;5;241m.\u001b[39mchildren]\n\u001b[0;32m     24\u001b[0m     \u001b[38;5;28;01mif\u001b[39;00m \u001b[38;5;28mlen\u001b[39m(children_values) \u001b[38;5;241m==\u001b[39m \u001b[38;5;241m1\u001b[39m:\n\u001b[0;32m     25\u001b[0m         \u001b[38;5;28;01mreturn\u001b[39;00m safe_apply_unary(op, children_values[\u001b[38;5;241m0\u001b[39m])\n",
      "Cell \u001b[1;32mIn[59], line 22\u001b[0m, in \u001b[0;36mevaluate\u001b[1;34m(node, x)\u001b[0m\n\u001b[0;32m     19\u001b[0m \u001b[38;5;28;01melse\u001b[39;00m:\n\u001b[0;32m     20\u001b[0m     \u001b[38;5;66;03m# Case 3: internal node\u001b[39;00m\n\u001b[0;32m     21\u001b[0m     op \u001b[38;5;241m=\u001b[39m node\u001b[38;5;241m.\u001b[39mvalue\n\u001b[1;32m---> 22\u001b[0m     children_values \u001b[38;5;241m=\u001b[39m [\u001b[43mevaluate\u001b[49m\u001b[43m(\u001b[49m\u001b[43mchild\u001b[49m\u001b[43m,\u001b[49m\u001b[43m \u001b[49m\u001b[43mx\u001b[49m\u001b[43m)\u001b[49m \u001b[38;5;28;01mfor\u001b[39;00m child \u001b[38;5;129;01min\u001b[39;00m node\u001b[38;5;241m.\u001b[39mchildren]\n\u001b[0;32m     24\u001b[0m     \u001b[38;5;28;01mif\u001b[39;00m \u001b[38;5;28mlen\u001b[39m(children_values) \u001b[38;5;241m==\u001b[39m \u001b[38;5;241m1\u001b[39m:\n\u001b[0;32m     25\u001b[0m         \u001b[38;5;28;01mreturn\u001b[39;00m safe_apply_unary(op, children_values[\u001b[38;5;241m0\u001b[39m])\n",
      "    \u001b[1;31m[... skipping similar frames: evaluate at line 22 (2 times)]\u001b[0m\n",
      "Cell \u001b[1;32mIn[59], line 22\u001b[0m, in \u001b[0;36mevaluate\u001b[1;34m(node, x)\u001b[0m\n\u001b[0;32m     19\u001b[0m \u001b[38;5;28;01melse\u001b[39;00m:\n\u001b[0;32m     20\u001b[0m     \u001b[38;5;66;03m# Case 3: internal node\u001b[39;00m\n\u001b[0;32m     21\u001b[0m     op \u001b[38;5;241m=\u001b[39m node\u001b[38;5;241m.\u001b[39mvalue\n\u001b[1;32m---> 22\u001b[0m     children_values \u001b[38;5;241m=\u001b[39m [\u001b[43mevaluate\u001b[49m\u001b[43m(\u001b[49m\u001b[43mchild\u001b[49m\u001b[43m,\u001b[49m\u001b[43m \u001b[49m\u001b[43mx\u001b[49m\u001b[43m)\u001b[49m \u001b[38;5;28;01mfor\u001b[39;00m child \u001b[38;5;129;01min\u001b[39;00m node\u001b[38;5;241m.\u001b[39mchildren]\n\u001b[0;32m     24\u001b[0m     \u001b[38;5;28;01mif\u001b[39;00m \u001b[38;5;28mlen\u001b[39m(children_values) \u001b[38;5;241m==\u001b[39m \u001b[38;5;241m1\u001b[39m:\n\u001b[0;32m     25\u001b[0m         \u001b[38;5;28;01mreturn\u001b[39;00m safe_apply_unary(op, children_values[\u001b[38;5;241m0\u001b[39m])\n",
      "Cell \u001b[1;32mIn[59], line 27\u001b[0m, in \u001b[0;36mevaluate\u001b[1;34m(node, x)\u001b[0m\n\u001b[0;32m     25\u001b[0m     \u001b[38;5;28;01mreturn\u001b[39;00m safe_apply_unary(op, children_values[\u001b[38;5;241m0\u001b[39m])\n\u001b[0;32m     26\u001b[0m \u001b[38;5;28;01melif\u001b[39;00m \u001b[38;5;28mlen\u001b[39m(children_values) \u001b[38;5;241m==\u001b[39m \u001b[38;5;241m2\u001b[39m:\n\u001b[1;32m---> 27\u001b[0m     \u001b[38;5;28;01mreturn\u001b[39;00m \u001b[43msafe_apply_binary\u001b[49m\u001b[43m(\u001b[49m\u001b[43mop\u001b[49m\u001b[43m,\u001b[49m\u001b[43m \u001b[49m\u001b[43mchildren_values\u001b[49m\u001b[43m[\u001b[49m\u001b[38;5;241;43m0\u001b[39;49m\u001b[43m]\u001b[49m\u001b[43m,\u001b[49m\u001b[43m \u001b[49m\u001b[43mchildren_values\u001b[49m\u001b[43m[\u001b[49m\u001b[38;5;241;43m1\u001b[39;49m\u001b[43m]\u001b[49m\u001b[43m)\u001b[49m\n\u001b[0;32m     28\u001b[0m \u001b[38;5;28;01melse\u001b[39;00m:\n\u001b[0;32m     29\u001b[0m     \u001b[38;5;28;01mraise\u001b[39;00m \u001b[38;5;167;01mValueError\u001b[39;00m(\u001b[38;5;124m\"\u001b[39m\u001b[38;5;124mChildren number not supported\u001b[39m\u001b[38;5;124m\"\u001b[39m)\n",
      "Cell \u001b[1;32mIn[59], line 63\u001b[0m, in \u001b[0;36msafe_apply_binary\u001b[1;34m(func, arr1, arr2)\u001b[0m\n\u001b[0;32m     61\u001b[0m \u001b[38;5;28;01mdef\u001b[39;00m\u001b[38;5;250m \u001b[39m\u001b[38;5;21msafe_apply_binary\u001b[39m(func, arr1, arr2):\n\u001b[0;32m     62\u001b[0m     vfunc \u001b[38;5;241m=\u001b[39m np\u001b[38;5;241m.\u001b[39mfrompyfunc(func, \u001b[38;5;241m2\u001b[39m, \u001b[38;5;241m1\u001b[39m)\n\u001b[1;32m---> 63\u001b[0m     \u001b[38;5;28;01mreturn\u001b[39;00m \u001b[43mvfunc\u001b[49m\u001b[43m(\u001b[49m\u001b[43marr1\u001b[49m\u001b[43m,\u001b[49m\u001b[43m \u001b[49m\u001b[43marr2\u001b[49m\u001b[43m)\u001b[49m\u001b[38;5;241m.\u001b[39mastype(\u001b[38;5;28mfloat\u001b[39m)\n",
      "\u001b[1;31mKeyboardInterrupt\u001b[0m: "
     ]
    }
   ],
   "source": [
    "print(\"Test:\\n\")\n",
    "best_individual, best_fit, hall_of_fame = run_genetic_programming(\n",
    "    x_validation, y_validation,\n",
    "    population_size=10_000,\n",
    "    generations=100,\n",
    "    elite_size=2\n",
    ")\n",
    "\n",
    "expr_str = tree_to_string(best_individual)\n",
    "print(f\"\\nBest expression found = {expr_str}, MSE = {best_fit}\")\n",
    "\n",
    "gx_best_individual = convert_to_gxgp_node(best_individual)\n",
    "print(\"Final Expression Tree (GP on test set):\")\n",
    "draw(gx_best_individual)\n"
   ]
  }
 ],
 "metadata": {
  "kernelspec": {
   "display_name": "CI2024",
   "language": "python",
   "name": "python3"
=======
  "cells": [
    {
      "cell_type": "markdown",
      "metadata": {
        "id": "_gZ3RXfbM8E0"
      },
      "source": [
        "# Symbolic Regression Implementation"
      ]
    },
    {
      "cell_type": "code",
      "source": [
        "import numpy as np\n",
        "import data\n",
        "import sys\n",
        "sys.path.append('/content/CI2024_project-work/src')\n",
        "sys.path.append('/content/CI2024_project-work/data')\n",
        "sys.path.append('/content/CI2024_project-work/src/gxgp')\n",
        "from gxgp import node, gp_tree"
      ],
      "metadata": {
        "id": "1ereh_r_RtOP"
      },
      "execution_count": 24,
      "outputs": []
    },
    {
      "cell_type": "code",
      "execution_count": 25,
      "metadata": {
        "colab": {
          "base_uri": "https://localhost:8080/"
        },
        "id": "T_A_3te-M8E3",
        "outputId": "75020496-b08a-445b-c644-455c93dcddf9"
      },
      "outputs": [
        {
          "output_type": "stream",
          "name": "stdout",
          "text": [
            "data  __pycache__  README.md  s333106.py  src\n"
          ]
        }
      ],
      "source": [
        "!ls\n",
        "\n",
        "\n",
        "data = np.load('/content/CI2024_project-work/data/problem_5.npz')\n",
        "x_validation = data['x']\n",
        "y_validation = data['y']\n",
        "\n",
        "num_vars = x_validation.shape[0]\n",
        "VARIABLES = [f\"x{i}\" for i in range(num_vars)]\n",
        "\n"
      ]
    },
    {
      "cell_type": "code",
      "source": [
        "\n",
        "\n"
      ],
      "metadata": {
        "id": "HdNX-CqIPl1I"
      },
      "execution_count": 25,
      "outputs": []
    },
    {
      "cell_type": "code",
      "source": [],
      "metadata": {
        "id": "IXvJB3A4PhLH"
      },
      "execution_count": 25,
      "outputs": []
    },
    {
      "cell_type": "code",
      "source": [],
      "metadata": {
        "id": "6hOK4SVGPiUp"
      },
      "execution_count": 25,
      "outputs": []
    },
    {
      "cell_type": "markdown",
      "metadata": {
        "id": "bgDRci7VM8E5"
      },
      "source": [
        "## Tree Node Definition"
      ]
    },
    {
      "cell_type": "code",
      "execution_count": 26,
      "metadata": {
        "id": "vqdh6lxaM8E6"
      },
      "outputs": [],
      "source": [
        "import math\n",
        "import operator\n",
        "import random\n",
        "\n",
        "class Node:\n",
        "    def __init__(self, value, children=None):\n",
        "        \"\"\"\n",
        "        value could be:\n",
        "            - a float (constant);\n",
        "            - a string (a variable name like 'x0','x1', ...):\n",
        "            - a Python function ( math.sin, operator.add, ...)\n",
        "        \"\"\"\n",
        "        self.value = value\n",
        "        self.children = children if children is not None else []\n",
        "\n",
        "    def is_leaf(self):\n",
        "        return len(self.children) == 0"
      ]
    },
    {
      "cell_type": "markdown",
      "metadata": {
        "id": "K0qLdcU_M8E7"
      },
      "source": [
        "## Tree Creation"
      ]
    },
    {
      "cell_type": "code",
      "execution_count": 27,
      "metadata": {
        "id": "Kule2qEAM8E7"
      },
      "outputs": [],
      "source": [
        "def evaluate(node: Node, x: np.ndarray) -> np.ndarray:\n",
        "    if node.is_leaf():\n",
        "        val = node.value\n",
        "        # Case 1: constant\n",
        "        if isinstance(val, (float, int)) and not isinstance(val, bool):\n",
        "            return np.full(x.shape[1], float(val))\n",
        "\n",
        "        # Case 2: variable\n",
        "        if isinstance(val, str) and val.startswith(\"x\"):\n",
        "            try:\n",
        "                idx = VARIABLES.index(val)\n",
        "            except ValueError:\n",
        "                raise ValueError(f\"Unknown Variable: {val}\")\n",
        "            return x[idx, :]\n",
        "\n",
        "        # Fallback\n",
        "        raise ValueError(f\"Unknown leaf value: {val}\")\n",
        "\n",
        "    else:\n",
        "        # Case 3: internal node\n",
        "        op = node.value\n",
        "        children_values = [evaluate(child, x) for child in node.children]\n",
        "\n",
        "        if len(children_values) == 1:\n",
        "            return safe_apply_unary(op, children_values[0])\n",
        "        elif len(children_values) == 2:\n",
        "            return safe_apply_binary(op, children_values[0], children_values[1])\n",
        "        else:\n",
        "            raise ValueError(\"Children number not supported\")\n",
        "\n",
        "\n",
        "\n",
        "def protected_div(a, b):\n",
        "    if abs(b) < 1e-12:\n",
        "        return 1.0\n",
        "    return a / b\n",
        "\n",
        "def protected_sqrt(x):\n",
        "    if x < 0:\n",
        "        return math.sqrt(abs(x))\n",
        "    return math.sqrt(x)\n",
        "\n",
        "def protected_log10(x):\n",
        "    if x <= 0:\n",
        "        return 0.0\n",
        "    return math.log10(x)\n",
        "\n",
        "def safe_apply_unary(func, arr):\n",
        "    vfunc = np.frompyfunc(func, 1, 1)\n",
        "    return vfunc(arr).astype(float)\n",
        "\n",
        "def protected_exp(x):\n",
        "    # Overflow condition\n",
        "    if x > 700:\n",
        "        return math.exp(700)\n",
        "    # Underflow condition\n",
        "    elif x < -700:\n",
        "        return math.exp(-700)\n",
        "    else:\n",
        "        return math.exp(x)\n",
        "def safe_apply_binary(func, arr1, arr2):\n",
        "    vfunc = np.frompyfunc(func, 2, 1)\n",
        "    return vfunc(arr1, arr2).astype(float)\n",
        "\n",
        "\n",
        "DEPTH_MAX = 4\n",
        "CONST_MAX = 10\n",
        "CONST_MIN = -10\n",
        "\n",
        "UNARY_FUNCS = [\n",
        "    math.sin,\n",
        "    math.cos,\n",
        "    operator.neg,\n",
        "    abs,\n",
        "    protected_log10,\n",
        "    protected_sqrt,\n",
        "    protected_exp\n",
        "]\n",
        "\n",
        "BINARY_FUNCS = [\n",
        "    operator.add,\n",
        "    operator.sub,\n",
        "    operator.mul,\n",
        "    protected_div\n",
        "]\n",
        "\n",
        "def generate_subtree_forced_var(\n",
        "    var: str,\n",
        "    depth: int,\n",
        "    constant_min=CONST_MIN,\n",
        "    constant_max=CONST_MAX\n",
        ") -> Node:\n",
        "    \"\"\"\n",
        "    Generate recursively a subtree with a variable var at the root.\n",
        "    \"\"\"\n",
        "    if depth <= 0:\n",
        "        return Node(var)\n",
        "    else:\n",
        "        if random.random() < 0.3:\n",
        "            op = random.choice(UNARY_FUNCS)\n",
        "            child = generate_subtree_forced_var(var, depth - 1, constant_min, constant_max)\n",
        "            return Node(op, [child])\n",
        "        else:\n",
        "            op = random.choice(BINARY_FUNCS)\n",
        "            left = generate_subtree_forced_var(var, depth - 1, constant_min, constant_max)\n",
        "            right = generate_random_subtree(depth - 1, constant_min=constant_min, constant_max=constant_max)\n",
        "            return Node(op, [left, right])\n",
        "\n",
        "\n",
        "\n",
        "def generate_random_subtree(depth, constant_min=CONST_MIN, constant_max=CONST_MAX) -> Node:\n",
        "    \"\"\"\n",
        "    Generate a random subtree without any constraint on the variables.\n",
        "    \"\"\"\n",
        "    variables = VARIABLES.copy()\n",
        "\n",
        "    if depth <= 0 or (depth > 1 and random.random() < 0.3):\n",
        "        if random.random() < 0.5 and variables:\n",
        "            # Choosing a random variable from the subset\n",
        "            var = random.choice(variables)\n",
        "            return Node(var)\n",
        "        else:\n",
        "            #Choosing a random constant\n",
        "            return Node(random.uniform(constant_min, constant_max))\n",
        "    else:\n",
        "        if random.random() < 0.3 and UNARY_FUNCS:\n",
        "            op = random.choice(UNARY_FUNCS)\n",
        "            child = generate_random_subtree(depth - 1, constant_min=constant_min, constant_max=constant_max)\n",
        "            return Node(op, [child])\n",
        "        else:\n",
        "            op = random.choice(BINARY_FUNCS)\n",
        "            left = generate_random_subtree(depth - 1, constant_min=constant_min, constant_max=constant_max)\n",
        "            right = generate_random_subtree(depth - 1, constant_min=constant_min, constant_max=constant_max)\n",
        "            return Node(op, [left, right])\n",
        "\n",
        "def generate_random_tree(depth=DEPTH_MAX, constant_min=CONST_MIN, constant_max=CONST_MAX) -> Node:\n",
        "    \"\"\"\n",
        "    Generate a tree which includes all the variables.\n",
        "    \"\"\"\n",
        "    if len(VARIABLES) == 0:\n",
        "        raise ValueError(\"There is no variable available.\")\n",
        "    elif len(VARIABLES) == 1:\n",
        "        var = VARIABLES[0]\n",
        "        return generate_subtree_forced_var(var, depth, constant_min=constant_min, constant_max=constant_max)\n",
        "    else:\n",
        "        if random.random() < 0.3 and UNARY_FUNCS:\n",
        "            # Unary operator\n",
        "            op = random.choice(UNARY_FUNCS)\n",
        "            child = generate_random_subtree(depth - 1, constant_min=constant_min, constant_max=constant_max)\n",
        "            return Node(op, [child])\n",
        "        elif BINARY_FUNCS:\n",
        "            # Binary operator\n",
        "            op = random.choice(BINARY_FUNCS)\n",
        "            left_subtree = generate_random_subtree(depth - 1, constant_min=constant_min, constant_max=constant_max)\n",
        "            right_subtree = generate_random_subtree(depth - 1, constant_min=constant_min, constant_max=constant_max)\n",
        "            return Node(op, [left_subtree, right_subtree])\n",
        "        else:\n",
        "            # Fallback: generate a random subtree without constraints\n",
        "            return generate_random_subtree(depth, constant_min=constant_min, constant_max=constant_max)\n",
        ""
      ]
    },
    {
      "cell_type": "markdown",
      "metadata": {
        "id": "ztQYJ3-xM8E9"
      },
      "source": [
        "## Expression String"
      ]
    },
    {
      "cell_type": "code",
      "execution_count": 28,
      "metadata": {
        "id": "arekVZMHM8E9"
      },
      "outputs": [],
      "source": [
        "DISPLAY_NAME_MAP = {\n",
        "    operator.add: '+',\n",
        "    operator.sub: '-',\n",
        "    operator.mul: '*',\n",
        "    protected_div: '/',\n",
        "    math.sin: 'sin',\n",
        "    math.cos: 'cos',\n",
        "    operator.neg: '-',\n",
        "    abs: 'abs',\n",
        "    protected_log10: 'log10',\n",
        "    protected_sqrt: 'sqrt',\n",
        "    protected_exp: 'exp',\n",
        "}\n",
        "\n",
        "def tree_to_string(node: Node) -> str:\n",
        "    \"\"\" It Returns a string representation of the tree node \"\"\"\n",
        "    # Case 1: Leaf node\n",
        "    if node.is_leaf():\n",
        "        val = node.value\n",
        "        # Constant\n",
        "        if isinstance(val, (float, int)) and not isinstance(val, bool):\n",
        "            return f\"{float(val):.3f}\"\n",
        "        # Variable\n",
        "        if isinstance(val, str) and val.startswith(\"x\"):\n",
        "            idx = val[1]\n",
        "            return f\"x{idx}\"\n",
        "        # fallback\n",
        "        return str(val)\n",
        "\n",
        "    # Caso 2: Internal node (Operator)\n",
        "    else:\n",
        "        op = node.value\n",
        "        child_strs = [tree_to_string(child) for child in node.children]\n",
        "        op_name = DISPLAY_NAME_MAP.get(op, op.__name__ if hasattr(op, '__name__') else str(op))\n",
        "        # Unary operator\n",
        "        if len(child_strs) == 1:\n",
        "            return f\"{op_name}({child_strs[0]})\"\n",
        "\n",
        "        # Binary operator\n",
        "        elif len(child_strs) == 2:\n",
        "            left_str, right_str = child_strs\n",
        "            return f\"({left_str} {op_name} {right_str})\"\n",
        "        else:\n",
        "            raise ValueError(\"Children number not supported\")"
      ]
    },
    {
      "cell_type": "markdown",
      "metadata": {
        "id": "DsRkGvPiM8E-"
      },
      "source": [
        "## Conversion Function\n",
        "They are useful to convert the tree generated my algorithm into the format the draw function in gxgp directory needs."
      ]
    },
    {
      "cell_type": "code",
      "execution_count": 29,
      "metadata": {
        "colab": {
          "base_uri": "https://localhost:8080/",
          "height": 443
        },
        "id": "MtvXDi9_M8E_",
        "outputId": "bda604db-ca86-48a1-adcf-18018c7ab34b"
      },
      "outputs": [
        {
          "output_type": "stream",
          "name": "stdout",
          "text": [
            "Albero ricostruito: (((exp(((x0 * 4.865) * exp(x1))) * (((-1.527 + -9.650) * (x2 + x1)) / x2)) * abs((5.823 + x0))) - ((x2 - -2.865) / (-9.485 + 5.293)))\n"
          ]
        },
        {
          "output_type": "display_data",
          "data": {
            "text/plain": [
              "<Figure size 640x480 with 1 Axes>"
            ],
            "image/png": "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\n"
          },
          "metadata": {}
        }
      ],
      "source": [
        "from gxgp.node import Node as GXNode\n",
        "from gxgp.draw import draw\n",
        "\n",
        "def make_var_func(var_name):\n",
        "    \"\"\"It creates a function that returns the value of a variable from the keyword arguments.\"\"\"\n",
        "    def var_func(**kwargs):\n",
        "        return kwargs[var_name]\n",
        "    var_func.__name__ = var_name\n",
        "    return var_func\n",
        "\n",
        "def make_const_func(const_val):\n",
        "    \"\"\"It creates a function that returns a constant value.\"\"\"\n",
        "    def const_func(**kwargs):\n",
        "        return const_val\n",
        "    const_func.__name__ = f\"{const_val:.3f}\"\n",
        "    return const_func\n",
        "\n",
        "def convert_to_gxgp_node(my_node, subtree=None) -> GXNode:\n",
        "    \"\"\"\n",
        "    It converts a Node object to a GXNode object.\n",
        "    \"\"\"\n",
        "    if subtree is None:\n",
        "        subtree = set()\n",
        "\n",
        "    if my_node.is_leaf():\n",
        "        val = my_node.value\n",
        "        if isinstance(val, str):\n",
        "\n",
        "            var_name = val\n",
        "            var_func = make_var_func(var_name)\n",
        "            display_name = DISPLAY_NAME_MAP.get(var_name, var_name)\n",
        "            gx_node = GXNode(var_func, [], name=display_name)\n",
        "        else:\n",
        "            const_val = float(val)\n",
        "            const_func = make_const_func(const_val)\n",
        "            display_name = f\"{const_val:.3f}\"\n",
        "            gx_node = GXNode(const_func, [], name=display_name)\n",
        "        subtree.add(gx_node)\n",
        "        return gx_node\n",
        "    else:\n",
        "        op = my_node.value\n",
        "        gx_op = op\n",
        "        display_name = DISPLAY_NAME_MAP.get(op, op.__name__ if hasattr(op, '__name__') else str(op))\n",
        "        converted_children = []\n",
        "        for child in my_node.children if my_node.children is not None else []:\n",
        "            converted_child = convert_to_gxgp_node(child, subtree)\n",
        "            converted_children.append(converted_child)\n",
        "\n",
        "        gx_node = GXNode(gx_op, converted_children, name=display_name)\n",
        "        subtree.add(gx_node)\n",
        "        return gx_node\n",
        "\n",
        "\n",
        "\n",
        "import math\n",
        "import operator\n",
        "\n",
        "# utilizzato solo per testing\n",
        "# Dizionari per il parsing degli operatori\n",
        "# Questi dizionari mappano le stringhe (come vengono stampate da tree_to_string)\n",
        "# alle funzioni reali che useremo per ricostruire l’albero.\n",
        "BINARY_OPERATORS = {\n",
        "    '+': operator.add,\n",
        "    '-': operator.sub,\n",
        "    '*': operator.mul,\n",
        "    '/': protected_div  # usiamo protected_div per gestire la divisione\n",
        "}\n",
        "\n",
        "UNARY_OPERATORS = {\n",
        "    'sin': math.sin,\n",
        "    'cos': math.cos,\n",
        "    '-': operator.neg,  # per il caso unario, \"-\" rappresenta l'operatore unario\n",
        "    'abs': abs,\n",
        "    'log10': protected_log10,\n",
        "    'sqrt':  protected_sqrt,\n",
        "    'exp': protected_exp\n",
        "}\n",
        "\n",
        "# Funzioni protette (le stesse già definite nel tuo codice)\n",
        "def protected_div(a, b):\n",
        "    if abs(b) < 1e-12:\n",
        "        return 1.0\n",
        "    return a / b\n",
        "\n",
        "def protected_sqrt(x):\n",
        "    if x < 0:\n",
        "        return math.sqrt(abs(x))\n",
        "    return math.sqrt(x)\n",
        "\n",
        "def protected_log10(x):\n",
        "    if x <= 0:\n",
        "        return 0.0\n",
        "    return math.log10(x)\n",
        "\n",
        "def protected_exp(x):\n",
        "    if x > 700:\n",
        "        return math.exp(700)\n",
        "    elif x < -700:\n",
        "        return math.exp(-700)\n",
        "    else:\n",
        "        return math.exp(x)\n",
        "\n",
        "# La funzione principale per convertire una stringa in un albero Node.\n",
        "def string_to_tree(expr: str) -> Node:\n",
        "    expr = expr.replace(\" \", \"\")\n",
        "\n",
        "    def parse_expr(s, i):\n",
        "        if s[i] == '(':\n",
        "            i += 1  # skip '('\n",
        "            left_node, i = parse_expr(s, i)\n",
        "            # Read exactly one operator character\n",
        "            if s[i] in \"+-*/\":\n",
        "                op_str = s[i]\n",
        "                i += 1\n",
        "            else:\n",
        "                raise ValueError(\"Expected operator\")\n",
        "            if op_str not in BINARY_OPERATORS:\n",
        "                raise ValueError(f\"Unknown operator: {op_str}\")\n",
        "            op_func = BINARY_OPERATORS[op_str]\n",
        "            right_node, i = parse_expr(s, i)\n",
        "            if s[i] != ')':\n",
        "                raise ValueError(\"Expected closing parenthesis\")\n",
        "            i += 1  # skip ')'\n",
        "            return Node(op_func, [left_node, right_node]), i\n",
        "\n",
        "        elif s[i].isalpha():\n",
        "            ident = \"\"\n",
        "            while i < len(s) and (s[i].isalnum() or s[i] == '_'):\n",
        "                ident += s[i]\n",
        "                i += 1\n",
        "            if i < len(s) and s[i] == '(':\n",
        "                i += 1  # skip '('\n",
        "                child_node, i = parse_expr(s, i)\n",
        "                if s[i] != ')':\n",
        "                    raise ValueError(\"Expected closing parenthesis after function\")\n",
        "                i += 1  # skip ')'\n",
        "                if ident not in UNARY_OPERATORS:\n",
        "                    raise ValueError(f\"Unknown unary function: {ident}\")\n",
        "                func = UNARY_OPERATORS[ident]\n",
        "                return Node(func, [child_node]), i\n",
        "            else:\n",
        "                return Node(ident), i\n",
        "\n",
        "        elif s[i].isdigit() or s[i] == '.' or (s[i] == '-' and i+1 < len(s) and (s[i+1].isdigit() or s[i+1]=='.')):\n",
        "            num_str = \"\"\n",
        "            if s[i] == '-':\n",
        "                num_str += s[i]\n",
        "                i += 1\n",
        "            while i < len(s) and (s[i].isdigit() or s[i] == '.'):\n",
        "                num_str += s[i]\n",
        "                i += 1\n",
        "            return Node(float(num_str)), i\n",
        "\n",
        "        else:\n",
        "            raise ValueError(f\"Unexpected character: {s[i]} at position {i}\")\n",
        "\n",
        "    node, pos_final = parse_expr(expr, 0)\n",
        "    if pos_final != len(expr):\n",
        "        raise ValueError(\"The entire expression was not consumed during parsing\")\n",
        "    return node\n",
        "\n",
        "\n",
        "\n",
        "\n",
        "expr = \"(((cos(x1) * 6.830) + sqrt(sqrt(((-9.009 + x0) + abs(x1))))) + sqrt(sqrt(-8.538)))\"\n",
        "albero = string_to_tree(expr)\n",
        "\n",
        "print(\"Albero ricostruito:\", tree_to_string(albero))\n",
        "draw(convert_to_gxgp_node(albero))"
      ]
    },
    {
      "cell_type": "markdown",
      "metadata": {
        "id": "D_FGeCLbM8FA"
      },
      "source": [
        "## Fitness Function"
      ]
    },
    {
      "cell_type": "code",
      "execution_count": 30,
      "metadata": {
        "id": "r-A8-b0ZM8FB"
      },
      "outputs": [],
      "source": [
        "def fitness(individual: Node, x: np.ndarray, y: np.ndarray) -> float:\n",
        "    \"\"\" It calculates the fitness of an individual. \"\"\"\n",
        "    try:\n",
        "        y_pred = evaluate(individual, x)\n",
        "        if not np.isfinite(y_pred).all():\n",
        "            return 1e10\n",
        "        mse = np.mean((y - y_pred)**2)\n",
        "        return mse\n",
        "    except (ValueError, ZeroDivisionError):\n",
        "        return 1e10"
      ]
    },
    {
      "cell_type": "markdown",
      "metadata": {
        "id": "bI4SsBQyM8FB"
      },
      "source": [
        "## Selection"
      ]
    },
    {
      "cell_type": "code",
      "execution_count": 31,
      "metadata": {
        "id": "Adwp75hkM8FB"
      },
      "outputs": [],
      "source": [
        "def tournament_selection(population, x, y, k=3):\n",
        "    \"\"\" It returns the best individual from a random tournament. \"\"\"\n",
        "    contenders = random.sample(population, k)\n",
        "    best = min(contenders, key=lambda ind: fitness(ind, x, y))\n",
        "    return best\n"
      ]
    },
    {
      "cell_type": "markdown",
      "metadata": {
        "id": "M9fcQELbM8FC"
      },
      "source": [
        "## Crossover"
      ]
    },
    {
      "cell_type": "code",
      "execution_count": 32,
      "metadata": {
        "id": "SGlBpbjzM8FC"
      },
      "outputs": [],
      "source": [
        "def crossover(parent1: Node, parent2: Node) -> Node:\n",
        "    \"\"\"Crossover between two parents.\"\"\"\n",
        "    child1 = clone_tree(parent1)\n",
        "    child2 = clone_tree(parent2)\n",
        "\n",
        "    internal_nodes1 = [node for node in get_all_nodes(child1) if not node.is_leaf()]\n",
        "    internal_nodes2 = [node for node in get_all_nodes(child2) if not node.is_leaf()]\n",
        "\n",
        "    # If there are internal nodes in both trees it selects a random internal node from each tree and swaps the subtrees\n",
        "    if internal_nodes1 and internal_nodes2:\n",
        "        node1 = random.choice(internal_nodes1)\n",
        "        node2 = random.choice(internal_nodes2)\n",
        "\n",
        "        node1.value, node1.children, node2.value, node2.children = node2.value, node2.children, node1.value, node1.children\n",
        "\n",
        "    return child1\n",
        "\n",
        "\n",
        "def get_random_node(tree: Node) -> Node:\n",
        "    \"\"\" It returns a random node from the tree. \"\"\"\n",
        "    all_nodes = get_all_nodes(tree)\n",
        "    return random.choice(all_nodes)\n",
        "\n",
        "def get_all_nodes(tree: Node) -> list:\n",
        "    \"\"\" It returns a list with all the nodes of the tree. \"\"\"\n",
        "    nodes = [tree]\n",
        "    for c in tree.children:\n",
        "        nodes += get_all_nodes(c)\n",
        "    return nodes\n",
        "\n",
        "def clone_tree(node: Node) -> Node:\n",
        "    \"\"\" It creates a deep copy of the tree. \"\"\"\n",
        "    new_node = Node(node.value)\n",
        "    new_node.children = [clone_tree(c) for c in node.children]\n",
        "    return new_node\n"
      ]
    },
    {
      "cell_type": "markdown",
      "metadata": {
        "id": "94a8b9NFM8FD"
      },
      "source": [
        "## Mutation"
      ]
    },
    {
      "cell_type": "code",
      "execution_count": 33,
      "metadata": {
        "id": "-AWPtRMCM8FD"
      },
      "outputs": [],
      "source": [
        "def mutate(individual: Node, mutation_rate=0.4) -> Node:\n",
        "    \"\"\"With a certain probability it mutates a node of the tree.\"\"\"\n",
        "    mutant = clone_tree(individual)\n",
        "    if random.random() < mutation_rate:\n",
        "        internal_nodes = [node for node in get_all_nodes(mutant) if not node.is_leaf()]\n",
        "        leaf_nodes = [node for node in get_all_nodes(mutant) if node.is_leaf()]\n",
        "\n",
        "        # With a certain probability it mutates an internal node, otherwise it mutates a leaf node.\n",
        "        if internal_nodes and (not leaf_nodes or random.random() < 0.5):\n",
        "\n",
        "            node_to_mutate = random.choice(internal_nodes)\n",
        "            new_subtree = generate_random_tree(depth=DEPTH_MAX, constant_min=CONST_MIN, constant_max=CONST_MAX)\n",
        "            node_to_mutate.value = new_subtree.value\n",
        "            node_to_mutate.children = new_subtree.children\n",
        "        elif leaf_nodes:\n",
        "            node_to_mutate = random.choice(leaf_nodes)\n",
        "            if random.random() < 0.5:\n",
        "                new_var = random.choice(VARIABLES)\n",
        "                node_to_mutate.value = new_var\n",
        "            else:\n",
        "                node_to_mutate.value = random.uniform(CONST_MIN, CONST_MAX)\n",
        "                node_to_mutate.children = []\n",
        "\n",
        "    return mutant\n",
        "\n"
      ]
    },
    {
      "cell_type": "markdown",
      "metadata": {
        "id": "p9lFMA3sM8FD"
      },
      "source": [
        "## Cutting the Tree"
      ]
    },
    {
      "cell_type": "code",
      "execution_count": 34,
      "metadata": {
        "id": "I_MssHbOM8FE"
      },
      "outputs": [],
      "source": [
        "def enforce_max_depth(node, max_depth=3, current_depth=0):\n",
        "    \"\"\"It reduces the depth of the tree to a maximum depth.\"\"\"\n",
        "    if current_depth >= max_depth:\n",
        "        if VARIABLES:\n",
        "            node.value = random.choice(VARIABLES + [random.uniform(CONST_MIN, CONST_MAX)])\n",
        "        else:\n",
        "            node.value = random.uniform(CONST_MIN, CONST_MAX)\n",
        "        node.children = []\n",
        "    else:\n",
        "        for c in node.children:\n",
        "            enforce_max_depth(c, max_depth, current_depth+1)\n"
      ]
    },
    {
      "cell_type": "markdown",
      "metadata": {
        "id": "-vPP-S0ZM8FE"
      },
      "source": [
        "## Genetic Programming Algorithm"
      ]
    },
    {
      "cell_type": "code",
      "execution_count": 35,
      "metadata": {
        "id": "UjLdmT2CM8FF"
      },
      "outputs": [],
      "source": [
        "def run_genetic_programming(x: np.ndarray, y: np.ndarray,\n",
        "                            population_size=100,\n",
        "                            generations=50,\n",
        "                            elite_size=2,\n",
        "                            max_depth=6):\n",
        "    \"\"\" It executes the genetic programming algorithm. \"\"\"\n",
        "\n",
        "    # 1) Ramped Half-and-Half Initialization\n",
        "    population = []\n",
        "    half_pop = population_size // 2\n",
        "    for i in range(half_pop):\n",
        "        tree = generate_random_tree(depth=2)\n",
        "        enforce_max_depth(tree, max_depth=max_depth)\n",
        "        population.append(tree)\n",
        "\n",
        "    for i in range(population_size - half_pop):\n",
        "        tree = generate_random_tree(depth=4)\n",
        "        enforce_max_depth(tree, max_depth=max_depth)\n",
        "        population.append(tree)\n",
        "\n",
        "    best_overall = None\n",
        "    best_fitness = float('inf')\n",
        "\n",
        "    # Hall of Fame with the best individual of each generation\n",
        "    hall_of_fame = []\n",
        "\n",
        "    for g in range(generations):\n",
        "        # 2) Fitness Evaluation\n",
        "        scored_pop = [(ind, fitness(ind, x, y)) for ind in population]\n",
        "        scored_pop.sort(key=lambda x: x[1])\n",
        "\n",
        "        best_current, best_current_fit = scored_pop[0]\n",
        "\n",
        "        if best_current_fit < best_fitness:\n",
        "            best_overall = clone_tree(best_current)\n",
        "            best_fitness = best_current_fit\n",
        "\n",
        "        best_str = tree_to_string(best_current)\n",
        "        print(f\"[Gen {g}] Best MSE: {best_current_fit:.5f} => {best_str}\")\n",
        "\n",
        "        hall_of_fame.append((clone_tree(best_current), best_current_fit))\n",
        "\n",
        "        new_population = [ind for ind, fit in scored_pop[:elite_size]]\n",
        "\n",
        "        # 4) Reproduction\n",
        "        while len(new_population) < population_size:\n",
        "            # Selection\n",
        "            p1 = tournament_selection(population, x, y, k=3)\n",
        "            p2 = tournament_selection(population, x, y, k=3)\n",
        "            # Crossover\n",
        "            offspring = crossover(p1, p2)\n",
        "            # Mutation\n",
        "            offspring = mutate(offspring)\n",
        "            # Enforce max depth to reduce the size of the tree\n",
        "            enforce_max_depth(offspring, max_depth=max_depth)\n",
        "            new_population.append(offspring)\n",
        "\n",
        "        population = new_population\n",
        "\n",
        "    return best_overall, best_fitness, hall_of_fame\n"
      ]
    },
    {
      "cell_type": "markdown",
      "metadata": {
        "id": "ve3MxbfrM8FF"
      },
      "source": [
        "## Training"
      ]
    },
    {
      "cell_type": "code",
      "execution_count": 36,
      "metadata": {
        "colab": {
          "base_uri": "https://localhost:8080/",
          "height": 244
        },
        "id": "cvxQNHrTM8FF",
        "outputId": "51bc6722-847e-46f4-87d2-b91d14715517"
      },
      "outputs": [
        {
          "output_type": "stream",
          "name": "stdout",
          "text": [
            "Variables: ['x0', 'x1']\n",
            "x_validation shape: (2, 5000)\n",
            "y_validation shape: (5000,)\n",
            "Total number of samples = 5000\n"
          ]
        },
        {
          "output_type": "execute_result",
          "data": {
            "text/plain": [
              "'\\nprint(\"\\nTraining:\\n\")\\nTRAIN_SIZE = N // 10\\nprint(f\"TRAIN_SIZE = {TRAIN_SIZE}\")\\n\\ntrain_indexes = np.random.choice(N, size=TRAIN_SIZE, replace=False)\\n\\nx_train = x_validation[:, train_indexes]\\ny_train = y_validation[train_indexes]\\n\\nbest_individual_training, best_fit_training, hall_of_fame_training = run_genetic_programming(\\n    x_train, y_train,\\n    population_size=10_000,\\n    generations=100,\\n    elite_size=2\\n)\\n\\n\\nexpr_str_training = tree_to_string(best_individual_training)\\nprint(f\"\\nBest expression found = {expr_str_training}, MSE = {best_fit_training}\")\\n\\ngx_best_individual_training = convert_to_gxgp_node(best_individual_training)\\nprint(\"Final Expression Tree (GP on training set):\")\\ndraw(gx_best_individual_training)\\n\\n'"
            ],
            "application/vnd.google.colaboratory.intrinsic+json": {
              "type": "string"
            }
          },
          "metadata": {},
          "execution_count": 36
        }
      ],
      "source": [
        "print(f\"Variables: {VARIABLES}\")\n",
        "print(f\"x_validation shape: {x_validation.shape}\")\n",
        "print(f\"y_validation shape: {y_validation.shape}\")\n",
        "\n",
        "N = x_validation.shape[1]\n",
        "print(f\"Total number of samples = {N}\")\n",
        "\n",
        "\"\"\"\n",
        "print(\"\\nTraining:\\n\")\n",
        "TRAIN_SIZE = N // 10\n",
        "print(f\"TRAIN_SIZE = {TRAIN_SIZE}\")\n",
        "\n",
        "train_indexes = np.random.choice(N, size=TRAIN_SIZE, replace=False)\n",
        "\n",
        "x_train = x_validation[:, train_indexes]\n",
        "y_train = y_validation[train_indexes]\n",
        "\n",
        "best_individual_training, best_fit_training, hall_of_fame_training = run_genetic_programming(\n",
        "    x_train, y_train,\n",
        "    population_size=10_000,\n",
        "    generations=100,\n",
        "    elite_size=2\n",
        ")\n",
        "\n",
        "\n",
        "expr_str_training = tree_to_string(best_individual_training)\n",
        "print(f\"\\nBest expression found = {expr_str_training}, MSE = {best_fit_training}\")\n",
        "\n",
        "gx_best_individual_training = convert_to_gxgp_node(best_individual_training)\n",
        "print(\"Final Expression Tree (GP on training set):\")\n",
        "draw(gx_best_individual_training)\n",
        "\n",
        "\"\"\"\n"
      ]
    },
    {
      "cell_type": "markdown",
      "metadata": {
        "id": "_PB8bY6AM8FG"
      },
      "source": [
        "## Test"
      ]
    },
    {
      "cell_type": "code",
      "execution_count": null,
      "metadata": {
        "colab": {
          "base_uri": "https://localhost:8080/"
        },
        "id": "yCbUCJj-M8FH",
        "outputId": "2941d359-9877-44be-ae67-4cae4aae5a82"
      },
      "outputs": [
        {
          "output_type": "stream",
          "name": "stdout",
          "text": [
            "Test:\n",
            "\n"
          ]
        },
        {
          "output_type": "stream",
          "name": "stderr",
          "text": [
            "<ipython-input-30-e2ff85b89a5a>:7: RuntimeWarning: overflow encountered in square\n",
            "  mse = np.mean((y - y_pred)**2)\n"
          ]
        },
        {
          "output_type": "stream",
          "name": "stdout",
          "text": [
            "[Gen 0] Best MSE: 10.46969 => ((abs((x1 - x1)) + ((4.799 * x1) * cos(x1))) / x1)\n",
            "[Gen 1] Best MSE: 10.46969 => ((abs((x1 - x1)) + ((4.799 * x1) * cos(x1))) / x1)\n",
            "[Gen 2] Best MSE: 10.46969 => ((abs((x1 - x1)) + ((4.799 * x1) * cos(x1))) / x1)\n",
            "[Gen 3] Best MSE: 8.90587 => (exp((sqrt(log10((x0 - -9.344))) + cos(x1))) + (x1 / -5.219))\n",
            "[Gen 4] Best MSE: 5.89398 => ((cos(x1) + (x0 / x0)) / sin(((-2.447 - -6.273) / sin(2.713))))\n",
            "[Gen 5] Best MSE: 5.89398 => ((cos(x1) + (x0 / x0)) / sin(((-2.447 - -6.273) / sin(2.713))))\n"
          ]
        },
        {
          "output_type": "stream",
          "name": "stderr",
          "text": [
            "<ipython-input-27-89d6c8729cc8>:63: RuntimeWarning: overflow encountered in mul (vectorized)\n",
            "  return vfunc(arr1, arr2).astype(float)\n"
          ]
        },
        {
          "output_type": "stream",
          "name": "stdout",
          "text": [
            "[Gen 6] Best MSE: 5.89398 => ((cos(x1) + (x0 / x0)) / sin(((-2.447 - -6.273) / sin(2.713))))\n",
            "[Gen 7] Best MSE: 5.89398 => ((cos(x1) + (x0 / x0)) / sin(((-2.447 - -6.273) / sin(2.713))))\n"
          ]
        },
        {
          "output_type": "stream",
          "name": "stderr",
          "text": [
            "/usr/local/lib/python3.11/dist-packages/numpy/core/_methods.py:118: RuntimeWarning: overflow encountered in reduce\n",
            "  ret = umr_sum(arr, axis, dtype, out, keepdims, where=where)\n"
          ]
        },
        {
          "output_type": "stream",
          "name": "stdout",
          "text": [
            "[Gen 8] Best MSE: 3.26669 => ((log10((x0 / x1)) + (sin((-5.059 + x1)) * 6.830)) + exp(cos(log10((-5.210 / -3.927)))))\n",
            "[Gen 9] Best MSE: 3.26669 => ((log10((x0 / x1)) + (sin((-5.059 + x1)) * 6.830)) + exp(cos(log10((-5.210 / -3.927)))))\n",
            "[Gen 10] Best MSE: 3.26669 => ((log10((x0 / x1)) + (sin((-5.059 + x1)) * 6.830)) + exp(cos(log10((-5.210 / -3.927)))))\n",
            "[Gen 11] Best MSE: 3.26669 => ((log10((x0 / x1)) + (sin((-5.059 + x1)) * 6.830)) + exp(cos(log10((-5.210 / -3.927)))))\n",
            "[Gen 12] Best MSE: 2.64607 => ((cos(x1) * 5.931) + sqrt(-2.696))\n",
            "[Gen 13] Best MSE: 0.69218 => ((cos(x1) * 5.931) + (2.732 + log10(-7.991)))\n",
            "[Gen 14] Best MSE: 0.69218 => ((cos(x1) * 5.931) + (2.732 + log10(-7.991)))\n",
            "[Gen 15] Best MSE: 0.36201 => (((cos(x1) * 5.931) + sqrt(-2.696)) + sqrt(sqrt(((-4.486 / x1) - cos((-9.075 + 3.964))))))\n",
            "[Gen 16] Best MSE: 0.36201 => (((cos(x1) * 5.931) + sqrt(-2.696)) + sqrt(sqrt(((-4.486 / x1) - cos((-9.075 + 3.964))))))\n",
            "[Gen 17] Best MSE: 0.36201 => (((cos(x1) * 5.931) + sqrt(-2.696)) + sqrt(sqrt(((-4.486 / x1) - cos((-9.075 + 3.964))))))\n",
            "[Gen 18] Best MSE: 0.35606 => ((cos(x1) * 5.931) + (sqrt((3.191 * 2.338)) + cos(x1)))\n",
            "[Gen 19] Best MSE: 0.32762 => ((cos(x1) * (sqrt(x0) + (sqrt(2.972) + sqrt((4.335 + 6.377))))) + (sqrt(((sqrt(x0) - (x1 - x1)) - log10(-6.619))) + sqrt(-3.987)))\n",
            "[Gen 20] Best MSE: 0.10588 => (((sin(sqrt(-5.753)) + (exp(-2.198) * log10(x1))) + log10(4.576)) + ((cos(x1) * 6.830) + sqrt(3.084)))\n",
            "[Gen 21] Best MSE: 0.08060 => ((abs((1.202 - 1.671)) + cos(-(x1))) / sqrt((sin(-2.757) / (-2.082 * -8.434))))\n",
            "[Gen 22] Best MSE: 0.08060 => ((abs((1.202 - 1.671)) + cos(-(x1))) / sqrt((sin(-2.757) / (-2.082 * -8.434))))\n",
            "[Gen 23] Best MSE: 0.08060 => ((abs((1.202 - 1.671)) + cos(-(x1))) / sqrt((sin(-2.757) / (-2.082 * -8.434))))\n",
            "[Gen 24] Best MSE: 0.08060 => ((abs((1.202 - 1.671)) + cos(-(x1))) / sqrt((sin(-2.757) / (-2.082 * -8.434))))\n",
            "[Gen 25] Best MSE: 0.08060 => ((abs((1.202 - 1.671)) + cos(-(x1))) / sqrt((sin(-2.757) / (-2.082 * -8.434))))\n",
            "[Gen 26] Best MSE: 0.06151 => (exp(cos(x1)) + (sqrt(((-7.673 + x0) / -1.708)) + (cos(x1) * 5.931)))\n",
            "[Gen 27] Best MSE: 0.06151 => (exp(cos(x1)) + (sqrt(((-7.673 + x0) / -1.708)) + (cos(x1) * 5.931)))\n",
            "[Gen 28] Best MSE: 0.04087 => ((cos(x1) * 6.830) + sqrt(((((4.729 - x0) - (0.667 - 6.553)) + cos(x1)) + (x1 / x1))))\n",
            "[Gen 29] Best MSE: 0.04087 => ((cos(x1) * 6.830) + sqrt(((((4.729 - x0) - (0.667 - 6.553)) + cos(x1)) + (x1 / x1))))\n",
            "[Gen 30] Best MSE: 0.04087 => ((cos(x1) * 6.830) + sqrt(((((4.729 - x0) - (0.667 - 6.553)) + cos(x1)) + (x1 / x1))))\n",
            "[Gen 31] Best MSE: 0.04087 => ((cos(x1) * 6.830) + sqrt(((((4.729 - x0) - (0.667 - 6.553)) + cos(x1)) + (x1 / x1))))\n"
          ]
        },
        {
          "output_type": "stream",
          "name": "stderr",
          "text": [
            "<ipython-input-27-89d6c8729cc8>:63: RuntimeWarning: overflow encountered in protected_div (vectorized)\n",
            "  return vfunc(arr1, arr2).astype(float)\n"
          ]
        },
        {
          "output_type": "stream",
          "name": "stdout",
          "text": [
            "[Gen 32] Best MSE: 0.04087 => ((cos(x1) * 6.830) + sqrt(((((4.729 - x0) - (0.667 - 6.553)) + cos(x1)) + (x1 / x1))))\n",
            "[Gen 33] Best MSE: 0.04087 => ((cos(x1) * 6.830) + sqrt(((((4.729 - x0) - (0.667 - 6.553)) + cos(x1)) + (x1 / x1))))\n",
            "[Gen 34] Best MSE: 0.04087 => ((cos(x1) * 6.830) + sqrt(((((4.729 - x0) - (0.667 - 6.553)) + cos(x1)) + (x1 / x1))))\n",
            "[Gen 35] Best MSE: 0.04087 => ((cos(x1) * 6.830) + sqrt(((((4.729 - x0) - (0.667 - 6.553)) + cos(x1)) + (x1 / x1))))\n",
            "[Gen 36] Best MSE: 0.04087 => ((cos(x1) * 6.830) + sqrt(((((4.729 - x0) - (0.667 - 6.553)) + cos(x1)) + (x1 / x1))))\n",
            "[Gen 37] Best MSE: 0.02419 => ((cos(x1) * 6.830) + sqrt(((cos(x1) + cos(x1)) + (((-1.859 * x0) + (x0 + 9.873)) + sqrt(sqrt(3.307))))))\n",
            "[Gen 38] Best MSE: 0.02419 => ((cos(x1) * 6.830) + sqrt(((cos(x1) + cos(x1)) + (((-1.859 * x0) + (x0 + 9.873)) + sqrt(sqrt(3.307))))))\n",
            "[Gen 39] Best MSE: 0.02419 => ((cos(x1) * 6.830) + sqrt(((cos(x1) + cos(x1)) + (((-1.859 * x0) + (x0 + 9.873)) + sqrt(sqrt(3.307))))))\n",
            "[Gen 40] Best MSE: 0.02419 => ((cos(x1) * 6.830) + sqrt(((cos(x1) + cos(x1)) + (((-1.859 * x0) + (x0 + 9.873)) + sqrt(sqrt(3.307))))))\n",
            "[Gen 41] Best MSE: 0.02419 => ((cos(x1) * 6.830) + sqrt(((cos(x1) + cos(x1)) + (((-1.859 * x0) + (x0 + 9.873)) + sqrt(sqrt(3.307))))))\n",
            "[Gen 42] Best MSE: 0.02419 => ((cos(x1) * 6.830) + sqrt(((cos(x1) + cos(x1)) + (((-1.859 * x0) + (x0 + 9.873)) + sqrt(sqrt(3.307))))))\n",
            "[Gen 43] Best MSE: 0.02419 => ((cos(x1) * 6.830) + sqrt(((cos(x1) + cos(x1)) + (((-1.859 * x0) + (x0 + 9.873)) + sqrt(sqrt(3.307))))))\n",
            "[Gen 44] Best MSE: 0.02419 => ((cos(x1) * 6.830) + sqrt(((cos(x1) + cos(x1)) + (((-1.859 * x0) + (x0 + 9.873)) + sqrt(sqrt(3.307))))))\n",
            "[Gen 45] Best MSE: 0.02419 => ((cos(x1) * 6.830) + sqrt(((cos(x1) + cos(x1)) + (((-1.859 * x0) + (x0 + 9.873)) + sqrt(sqrt(3.307))))))\n",
            "[Gen 46] Best MSE: 0.02419 => ((cos(x1) * 6.830) + sqrt(((cos(x1) + cos(x1)) + (((-1.859 * x0) + (x0 + 9.873)) + sqrt(sqrt(3.307))))))\n",
            "[Gen 47] Best MSE: 0.02419 => ((cos(x1) * 6.830) + sqrt(((cos(x1) + cos(x1)) + (((-1.859 * x0) + (x0 + 9.873)) + sqrt(sqrt(3.307))))))\n",
            "[Gen 48] Best MSE: 0.02419 => ((cos(x1) * 6.830) + sqrt(((cos(x1) + cos(x1)) + (((-1.859 * x0) + (x0 + 9.873)) + sqrt(sqrt(3.307))))))\n",
            "[Gen 49] Best MSE: 0.02419 => ((cos(x1) * 6.830) + sqrt(((cos(x1) + cos(x1)) + (((-1.859 * x0) + (x0 + 9.873)) + sqrt(sqrt(3.307))))))\n",
            "[Gen 50] Best MSE: 0.02147 => (((cos(x1) * 6.830) + sqrt(-6.287)) + sqrt(sin(((cos(-2.365) * cos(-5.349)) + sqrt((x0 + 7.611))))))\n",
            "[Gen 51] Best MSE: 0.02147 => (((cos(x1) * 6.830) + sqrt(-6.287)) + sqrt(sin(((cos(-2.365) * cos(-5.349)) + sqrt((x0 + 7.611))))))\n",
            "[Gen 52] Best MSE: 0.01973 => (((cos(x1) * 6.830) + sqrt(sqrt(((-9.009 + x0) + abs(x1))))) + sqrt(sqrt(-8.538)))\n"
          ]
        }
      ],
      "source": [
        "print(\"Test:\\n\")\n",
        "best_individual, best_fit, hall_of_fame = run_genetic_programming(\n",
        "    x_validation, y_validation,\n",
        "    population_size=10_000,\n",
        "    generations=100,\n",
        "    elite_size=2\n",
        ")\n",
        "\n",
        "expr_str = tree_to_string(best_individual)\n",
        "print(f\"\\nBest expression found = {expr_str}, MSE = {best_fit}\")\n",
        "\n",
        "gx_best_individual = convert_to_gxgp_node(best_individual)\n",
        "print(\"Final Expression Tree (GP on test set):\")\n",
        "draw(gx_best_individual)\n"
      ]
    }
  ],
  "metadata": {
    "kernelspec": {
      "display_name": "CI2024",
      "language": "python",
      "name": "python3"
    },
    "language_info": {
      "codemirror_mode": {
        "name": "ipython",
        "version": 3
      },
      "file_extension": ".py",
      "mimetype": "text/x-python",
      "name": "python",
      "nbconvert_exporter": "python",
      "pygments_lexer": "ipython3",
      "version": "3.12.2"
    },
    "colab": {
      "provenance": [],
      "toc_visible": true
    }
>>>>>>> 8c04608ba57c3a9757b03796ae470b4523fca592
  },
  "nbformat": 4,
  "nbformat_minor": 0
}